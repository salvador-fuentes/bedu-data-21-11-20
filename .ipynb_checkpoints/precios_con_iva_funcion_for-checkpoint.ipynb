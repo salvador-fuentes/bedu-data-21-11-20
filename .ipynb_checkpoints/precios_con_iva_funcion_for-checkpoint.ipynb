{
 "cells": [
  {
   "cell_type": "code",
   "execution_count": 38,
   "metadata": {},
   "outputs": [],
   "source": [
    "precios_en_menu = [2500, 1175, 1525, 1475, 1925, 1775, 1875, 1500, 450, 2000, 1350, 2200, 1075, 2375, 1500, 1800, 50, 975, 300, 250, 1175, 1150, 200, 2275, 375]"
   ]
  },
  {
   "cell_type": "code",
   "execution_count": 35,
   "metadata": {},
   "outputs": [],
   "source": [
    "#Agregar el 16% a cada precio de IVA e imprimirlo. "
   ]
  },
  {
   "cell_type": "code",
   "execution_count": 39,
   "metadata": {},
   "outputs": [
    {
     "name": "stdout",
     "output_type": "stream",
     "text": [
      "2900\n",
      "1363\n",
      "1769\n",
      "1711\n",
      "2233\n",
      "2059\n",
      "2175\n",
      "1740\n",
      "522\n",
      "2320\n",
      "1566\n",
      "2552\n",
      "1247\n",
      "2755\n",
      "1740\n",
      "2088\n",
      "58\n",
      "1131\n",
      "348\n",
      "290\n",
      "1363\n",
      "1334\n",
      "232\n",
      "2639\n",
      "435\n"
     ]
    }
   ],
   "source": [
    "for n in precios_en_menu:\n",
    "    precios_en_menu_con_iva = (n * 1.16)\n",
    "    print(round(precios_en_menu_con_iva))"
   ]
  }
 ],
 "metadata": {
  "kernelspec": {
   "display_name": "Python 3",
   "language": "python",
   "name": "python3"
  },
  "language_info": {
   "codemirror_mode": {
    "name": "ipython",
    "version": 3
   },
   "file_extension": ".py",
   "mimetype": "text/x-python",
   "name": "python",
   "nbconvert_exporter": "python",
   "pygments_lexer": "ipython3",
   "version": "3.7.5"
  }
 },
 "nbformat": 4,
 "nbformat_minor": 4
}
